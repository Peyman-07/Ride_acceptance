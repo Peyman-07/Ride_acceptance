{
 "cells": [
  {
   "cell_type": "code",
   "execution_count": 1,
   "id": "2894a912-a0c3-4867-87a1-3844e8ef5362",
   "metadata": {},
   "outputs": [],
   "source": [
    "import os, sys # add MaaSSim to path (not needed if MaaSSim is already in path)\n",
    "module_path = os.path.abspath(os.path.join('../..'))\n",
    "if module_path not in sys.path:\n",
    "    sys.path.append(module_path)\n",
    "import MaaSSim"
   ]
  },
  {
   "cell_type": "code",
   "execution_count": 2,
   "id": "ed447205-43ee-4b89-adf7-957283e1f4fd",
   "metadata": {},
   "outputs": [],
   "source": [
    "#!pip install MaaSSim\n",
    "import MaaSSim.utils\n",
    "import logging\n",
    "from dotmap import DotMap\n",
    "import MaaSSim.simulators\n",
    "from MaaSSim.data_structures import structures as inData\n",
    "from MaaSSim.acceptance import ResultS"
   ]
  },
  {
   "cell_type": "code",
   "execution_count": 3,
   "id": "4ae926e2-e37c-4c2f-b16a-649b104314fb",
   "metadata": {},
   "outputs": [],
   "source": [
    "import osmnx as ox\n",
    "import networkx as nx\n",
    "import random\n",
    "import pandas as pd\n",
    "import matplotlib.pyplot as plt          \n",
    "import numpy as np\n",
    "import seaborn as sns"
   ]
  },
  {
   "cell_type": "code",
   "execution_count": 4,
   "id": "de98f624-f564-4dcb-bb65-45261ec79ef1",
   "metadata": {},
   "outputs": [],
   "source": [
    "# Do not forget to set the radius for centeral nodes calculation\n",
    "# The minimum trip distance is considered 1000m and this can be modified through utils.py: generate_demand function. \n",
    "# long attribute should be calculated according to the size of city\n",
    "# Platform fare is 2$ per km\n",
    "\n",
    "params = MaaSSim.utils.get_config('glance.json')\n",
    "params.use_fixed_postions = True\n",
    "params.times.patience = 600 #in second\n",
    "params.dist_threshold = 10000 #in meter\n",
    "params.vehicle_fixed_positions= True  #this should be fixed\n",
    "params.city = \"Sora, Italy\"\n",
    "params.paths.G = \"../../data/graphs/Sora.graphml\"\n",
    "params.paths.skim = \"../../data/graphs/Sora.csv\"\n",
    "params.nP = 5\n",
    "params.nV = 2\n",
    "params.simTime =1"
   ]
  },
  {
   "cell_type": "code",
   "execution_count": 5,
   "id": "a7cae6a3-93dd-41f4-a154-3394baf7143e",
   "metadata": {
    "collapsed": true,
    "jupyter": {
     "outputs_hidden": true
    },
    "tags": []
   },
   "outputs": [
    {
     "name": "stdout",
     "output_type": "stream",
     "text": [
      "14-11-21 21:43:07-WARNING-Setting up 1h simulation at 2021-11-14 21:22:24 for 2 vehicles and 5 passengers in Sora, Italy\n",
      "14-11-21 21:43:07-WARNING-simulation time 0.1 s\n",
      "travel_time 1045\n",
      "skim 1026.8182\n",
      "o =  3691595809\n",
      "d =  459473422\n",
      "travel_time 1001\n",
      "skim 986.5337999999998\n",
      "o =  2480573268\n",
      "d =  443151619\n",
      "travel_time 1295\n",
      "skim 1292.476\n",
      "o =  1911665282\n",
      "d =  6087425435\n",
      "travel_time 1180\n",
      "skim 1161.4063\n",
      "o =  5330599384\n",
      "d =  444717365\n",
      "14-11-21 21:43:07-WARNING-assertion tests for simulation results - passed\n"
     ]
    }
   ],
   "source": [
    "sim= MaaSSim.simulators.simulate(params=params, logger_level = logging.WARNING)"
   ]
  }
 ],
 "metadata": {
  "kernelspec": {
   "display_name": "Python 3",
   "language": "python",
   "name": "python3"
  },
  "language_info": {
   "codemirror_mode": {
    "name": "ipython",
    "version": 3
   },
   "file_extension": ".py",
   "mimetype": "text/x-python",
   "name": "python",
   "nbconvert_exporter": "python",
   "pygments_lexer": "ipython3",
   "version": "3.8.8"
  }
 },
 "nbformat": 4,
 "nbformat_minor": 5
}
