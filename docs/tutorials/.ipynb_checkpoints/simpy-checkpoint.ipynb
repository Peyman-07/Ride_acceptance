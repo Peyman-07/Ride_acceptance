{
 "cells": [
  {
   "cell_type": "code",
   "execution_count": 8,
   "id": "c7036e6f-78e1-4ae9-8ce2-84782e057d28",
   "metadata": {},
   "outputs": [],
   "source": [
    "import simpy\n",
    "import random\n",
    "import statistics"
   ]
  },
  {
   "cell_type": "code",
   "execution_count": 17,
   "id": "8bde1ce4-6d8b-4995-9d06-a5819a0d47f1",
   "metadata": {},
   "outputs": [],
   "source": [
    "def main():\n",
    "    env = simpy.Environment()\n",
    "    env.process(traffic_lights(env))\n",
    "    env.run(120)\n",
    "    \n",
    "def traffic_lights(env):\n",
    "    while True:\n",
    "        print('Light turned GREEN at t = ' + str(env.now))\n",
    "        yield env.timeout(30)\n",
    "        print('Light turned YELLOW at t = ' + str(env.now))\n",
    "        yield env.timeout(10)\n",
    "        print('Light turned RED at t = ' + str(env.now))\n",
    "        yield env.timeout(20)"
   ]
  },
  {
   "cell_type": "code",
   "execution_count": 18,
   "id": "b0bc3ba7-359f-470c-a32a-c78fc5e9dd20",
   "metadata": {},
   "outputs": [
    {
     "name": "stdout",
     "output_type": "stream",
     "text": [
      "Light turned GREEN at t = 0\n",
      "Light turned YELLOW at t = 30\n",
      "Light turned RED at t = 40\n",
      "Light turned GREEN at t = 60\n",
      "Light turned YELLOW at t = 90\n",
      "Light turned RED at t = 100\n"
     ]
    }
   ],
   "source": [
    "if __name__ == '__main__':\n",
    "    main()"
   ]
  },
  {
   "cell_type": "code",
   "execution_count": null,
   "id": "71f683eb-861c-4b0e-8336-5139ec888318",
   "metadata": {},
   "outputs": [],
   "source": []
  },
  {
   "cell_type": "code",
   "execution_count": null,
   "id": "eff3a1c5-fe2a-4901-b0ba-cc673163c49c",
   "metadata": {},
   "outputs": [],
   "source": []
  },
  {
   "cell_type": "code",
   "execution_count": null,
   "id": "30250447-0e09-40ba-9087-7928692ed9a0",
   "metadata": {},
   "outputs": [],
   "source": []
  },
  {
   "cell_type": "code",
   "execution_count": 21,
   "id": "23cbf64c-a4d4-4906-b610-2167626249d0",
   "metadata": {},
   "outputs": [],
   "source": [
    "wait_times = []"
   ]
  },
  {
   "cell_type": "code",
   "execution_count": 24,
   "id": "ff39dbd8-9e2e-48a2-9730-2ed66fa717f3",
   "metadata": {},
   "outputs": [],
   "source": [
    "class Theater(object):\n",
    "    \n",
    "    def __init__(self, env, num_cashiers, num_servers, num_ushers):\n",
    "        self.env = env\n",
    "        self.cashier = simpy.Resource(env, num_cashiers)\n",
    "        self.server = simpy.Resource(env, num_servers)\n",
    "        self.usher = simpy.Resource(env, num_ushers)\n",
    "        \n",
    "    def purchase_ticket(self, moviegoer):\n",
    "        yield self.env.timeout(random.randint(1, 3))\n",
    "        \n",
    "    def check_ticket(self, moviegoer):\n",
    "        yield self.env.timeout(3 / 60)\n",
    "\n",
    "    def sell_food(self, moviegoer):\n",
    "        yield self.env.timeout(random.randint(1, 5))\n",
    "        \n",
    "        \n",
    "def go_to_movies(env, moviegoer, theater):\n",
    "    # Moviegoer arrives at the theater\n",
    "    arrival_time = env.now\n",
    "    \n",
    "    with theater.cashier.request() as request:\n",
    "        yield request\n",
    "        yield env.process(theater.purchase_ticket(moviegoer))\n",
    "        \n",
    "    with theater.usher.request() as request:\n",
    "        yield request\n",
    "        yield env.process(theater.check_ticket(moviegoer))\n",
    "        \n",
    "    if random.choice([True, False]):\n",
    "        with theater.server.request() as request:\n",
    "            yield request\n",
    "            yield env.process(theater.sell_food(moviegoer))\n",
    "            \n",
    "    # Moviegoer heads into the theater\n",
    "    wait_times.append(env.now - arrival_time)\n",
    "    \n",
    "    \n",
    "def run_theater(env, num_cashiers, num_servers, num_ushers):\n",
    "    theater = Theater(env, num_cashiers, num_servers, num_ushers)\n",
    "    for moviegoer in range(3):\n",
    "        env.process(go_to_movies(env, moviegoer, theater))\n",
    "        \n",
    "    while True:\n",
    "        yield env.timeout(0.20)  # Wait a bit before generating a new person\n",
    "\n",
    "        moviegoer += 1\n",
    "        env.process(go_to_movies(env, moviegoer, theater))\n",
    "        \n",
    "def get_average_wait_time(wait_times):\n",
    "    average_wait = statistics.mean(wait_times)\n",
    "    \n",
    "def calculate_wait_time(arrival_times, departure_times):\n",
    "    average_wait = statistics.mean(wait_times)\n",
    "    # Pretty print the results\n",
    "    minutes, frac_minutes = divmod(average_wait, 1)\n",
    "    seconds = frac_minutes * 60\n",
    "    return round(minutes), round(seconds)\n",
    "\n",
    "def get_user_input():\n",
    "    num_cashiers = input(\"Input # of cashiers working: \")\n",
    "    num_servers = input(\"Input # of servers working: \")\n",
    "    num_ushers = input(\"Input # of ushers working: \")\n",
    "    params = [num_cashiers, num_servers, num_ushers]\n",
    "    if all(str(i).isdigit() for i in params):  # Check input is valid\n",
    "        params = [int(x) for x in params]\n",
    "    else:\n",
    "        print(\n",
    "            \"Could not parse input. The simulation will use default values:\",\n",
    "            \"\\n1 cashier, 1 server, 1 usher.\",\n",
    "        )\n",
    "        params = [1, 1, 1]\n",
    "    return params\n",
    "\n",
    "def main():\n",
    "    random.seed(42)\n",
    "    num_cashiers, num_servers, num_ushers = get_user_input()\n",
    "\n",
    "  # Run the simulation\n",
    "    env = simpy.Environment()\n",
    "    env.process(run_theater(env, num_cashiers, num_servers, num_ushers))\n",
    "    env.run(until=10)\n",
    "\n",
    "  # View the results\n",
    "    #print(wait_times)\n",
    "    t = statistics.mean(wait_times)\n",
    "    print(\n",
    "      \"Running simulation...\",\n",
    "      f\"\\nThe average wait time is {t} minutes.\",\n",
    "    )"
   ]
  },
  {
   "cell_type": "code",
   "execution_count": 25,
   "id": "dca38f15-8b17-4b27-a035-f36064aab273",
   "metadata": {
    "tags": []
   },
   "outputs": [
    {
     "name": "stdin",
     "output_type": "stream",
     "text": [
      "Input # of cashiers working:  3\n",
      "Input # of servers working:  3\n",
      "Input # of ushers working:  3\n"
     ]
    },
    {
     "name": "stdout",
     "output_type": "stream",
     "text": [
      "Running simulation... \n",
      "The average wait time is 31.72412587412589 minutes.\n"
     ]
    }
   ],
   "source": [
    "if __name__ == '__main__':\n",
    "    main()"
   ]
  },
  {
   "cell_type": "code",
   "execution_count": null,
   "id": "2cfbc96b-680d-4eb5-af0b-a75b50a5e0d9",
   "metadata": {},
   "outputs": [],
   "source": []
  },
  {
   "cell_type": "code",
   "execution_count": null,
   "id": "88062917-26b5-4dc5-8634-2e81ab2ed875",
   "metadata": {},
   "outputs": [],
   "source": []
  },
  {
   "cell_type": "code",
   "execution_count": null,
   "id": "e8a62388-a9ad-40f5-95a4-31b81aca0ad3",
   "metadata": {},
   "outputs": [],
   "source": []
  },
  {
   "cell_type": "code",
   "execution_count": null,
   "id": "c8ef96ac-ded0-479a-8ef0-c05a60cb8fc9",
   "metadata": {},
   "outputs": [],
   "source": []
  },
  {
   "cell_type": "code",
   "execution_count": null,
   "id": "e9de1682-97c0-49ad-8fee-2d3762b0d27a",
   "metadata": {},
   "outputs": [],
   "source": []
  },
  {
   "cell_type": "code",
   "execution_count": null,
   "id": "49692870-e64d-4d3c-a39b-4dd3d29b9471",
   "metadata": {},
   "outputs": [],
   "source": []
  },
  {
   "cell_type": "code",
   "execution_count": 18,
   "id": "42685b3e-6c98-49d6-957b-9eb7ad8d2c20",
   "metadata": {},
   "outputs": [],
   "source": [
    "wait_times = []\n",
    "\n",
    "class Office(object):\n",
    "    def __init__(self, env):\n",
    "        self.env = env\n",
    "        self.employee = simpy.Resource(env, 1)\n",
    "        \n",
    "    def service(self, person):\n",
    "        yield self.env.timeout(5)\n",
    "    "
   ]
  },
  {
   "cell_type": "code",
   "execution_count": 19,
   "id": "948c2936-fdb0-46ea-bc2b-d0d34bed6a0b",
   "metadata": {},
   "outputs": [],
   "source": [
    "def go_to_office(env, person, office):\n",
    "    arrival_time = env.now\n",
    "    with office.employee.request() as request:\n",
    "        yield request\n",
    "        yield env.process(office.service(person))\n",
    "        \n",
    "    waiting_time.append(env.now - arrival_time)\n",
    "    "
   ]
  },
  {
   "cell_type": "code",
   "execution_count": 26,
   "id": "9a3c5baf-21e8-449c-a776-be0459efc679",
   "metadata": {},
   "outputs": [],
   "source": [
    "def simulator(env):\n",
    "    office = Office(env)\n",
    "    \n",
    "    for person in range(3):\n",
    "        env.process(go_to_office(env, person, office))\n",
    "    "
   ]
  },
  {
   "cell_type": "code",
   "execution_count": 27,
   "id": "9288554b-aa8e-4bc8-9258-836bf55221f5",
   "metadata": {},
   "outputs": [],
   "source": [
    "def get_user_input():\n",
    "    num_employees = input(\"Input # of employees working: \")\n",
    "    return num_employees"
   ]
  },
  {
   "cell_type": "code",
   "execution_count": 3,
   "id": "e7bf5d12-0679-4b06-8573-8fe9a280e5be",
   "metadata": {},
   "outputs": [],
   "source": [
    "def main():\n",
    "    \n",
    "    #num_employees = get_user_input()\n",
    "\n",
    "    env = simpy.Environment()\n",
    "    env.process(simulator(env))\n",
    "    env.run(until=20)\n",
    "    \n",
    "    print(wait_times)\n"
   ]
  },
  {
   "cell_type": "code",
   "execution_count": 4,
   "id": "c386bf89-65c8-45e0-b067-79c7e7923c33",
   "metadata": {},
   "outputs": [
    {
     "ename": "NameError",
     "evalue": "name 'simpy' is not defined",
     "output_type": "error",
     "traceback": [
      "\u001b[0;31m---------------------------------------------------------------------------\u001b[0m",
      "\u001b[0;31mNameError\u001b[0m                                 Traceback (most recent call last)",
      "\u001b[0;32m<ipython-input-4-c7bc734e5e35>\u001b[0m in \u001b[0;36m<module>\u001b[0;34m\u001b[0m\n\u001b[1;32m      1\u001b[0m \u001b[0;32mif\u001b[0m \u001b[0m__name__\u001b[0m \u001b[0;34m==\u001b[0m \u001b[0;34m'__main__'\u001b[0m\u001b[0;34m:\u001b[0m\u001b[0;34m\u001b[0m\u001b[0;34m\u001b[0m\u001b[0m\n\u001b[0;32m----> 2\u001b[0;31m     \u001b[0mmain\u001b[0m\u001b[0;34m(\u001b[0m\u001b[0;34m)\u001b[0m\u001b[0;34m\u001b[0m\u001b[0;34m\u001b[0m\u001b[0m\n\u001b[0m",
      "\u001b[0;32m<ipython-input-3-aa3479e20a39>\u001b[0m in \u001b[0;36mmain\u001b[0;34m()\u001b[0m\n\u001b[1;32m      3\u001b[0m     \u001b[0;31m#num_employees = get_user_input()\u001b[0m\u001b[0;34m\u001b[0m\u001b[0;34m\u001b[0m\u001b[0;34m\u001b[0m\u001b[0m\n\u001b[1;32m      4\u001b[0m \u001b[0;34m\u001b[0m\u001b[0m\n\u001b[0;32m----> 5\u001b[0;31m     \u001b[0menv\u001b[0m \u001b[0;34m=\u001b[0m \u001b[0msimpy\u001b[0m\u001b[0;34m.\u001b[0m\u001b[0mEnvironment\u001b[0m\u001b[0;34m(\u001b[0m\u001b[0;34m)\u001b[0m\u001b[0;34m\u001b[0m\u001b[0;34m\u001b[0m\u001b[0m\n\u001b[0m\u001b[1;32m      6\u001b[0m     \u001b[0menv\u001b[0m\u001b[0;34m.\u001b[0m\u001b[0mprocess\u001b[0m\u001b[0;34m(\u001b[0m\u001b[0msimulator\u001b[0m\u001b[0;34m(\u001b[0m\u001b[0menv\u001b[0m\u001b[0;34m)\u001b[0m\u001b[0;34m)\u001b[0m\u001b[0;34m\u001b[0m\u001b[0;34m\u001b[0m\u001b[0m\n\u001b[1;32m      7\u001b[0m     \u001b[0menv\u001b[0m\u001b[0;34m.\u001b[0m\u001b[0mrun\u001b[0m\u001b[0;34m(\u001b[0m\u001b[0muntil\u001b[0m\u001b[0;34m=\u001b[0m\u001b[0;36m20\u001b[0m\u001b[0;34m)\u001b[0m\u001b[0;34m\u001b[0m\u001b[0;34m\u001b[0m\u001b[0m\n",
      "\u001b[0;31mNameError\u001b[0m: name 'simpy' is not defined"
     ]
    }
   ],
   "source": [
    "if __name__ == '__main__':\n",
    "    main()"
   ]
  },
  {
   "cell_type": "code",
   "execution_count": null,
   "id": "e481409a-ea3e-4713-9852-24982193182e",
   "metadata": {},
   "outputs": [],
   "source": []
  }
 ],
 "metadata": {
  "kernelspec": {
   "display_name": "Python 3",
   "language": "python",
   "name": "python3"
  },
  "language_info": {
   "codemirror_mode": {
    "name": "ipython",
    "version": 3
   },
   "file_extension": ".py",
   "mimetype": "text/x-python",
   "name": "python",
   "nbconvert_exporter": "python",
   "pygments_lexer": "ipython3",
   "version": "3.8.8"
  }
 },
 "nbformat": 4,
 "nbformat_minor": 5
}
